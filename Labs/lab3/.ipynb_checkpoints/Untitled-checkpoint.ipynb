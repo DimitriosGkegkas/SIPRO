{
 "cells": [
  {
   "cell_type": "markdown",
   "id": "c95f9fbf",
   "metadata": {},
   "source": [
    "# Transfer function and state space representation"
   ]
  },
  {
   "cell_type": "markdown",
   "id": "eafef6a8",
   "metadata": {},
   "source": [
    "### a) Write the transfer function Lh(s) of the system with input u and output ˜α."
   ]
  },
  {
   "cell_type": "code",
   "execution_count": 67,
   "id": "7a030c17",
   "metadata": {},
   "outputs": [],
   "source": [
    "from sympy import symbols, Function, Eq, Derivative, laplace_transform, simplify, solve\n",
    "from sympy.abc import t\n",
    "\n",
    "# Define variables and functions\n",
    "a = Function('a')\n",
    "u = Function('u')\n",
    "t = symbols('t')\n",
    "Wo = symbols('Wo')\n",
    "anom = symbols('anom')\n",
    "G = symbols('G')\n",
    "s = symbols('s')"
   ]
  },
  {
   "cell_type": "code",
   "execution_count": 44,
   "id": "649af13a",
   "metadata": {},
   "outputs": [
    {
     "data": {
      "text/latex": [
       "$\\displaystyle - anom + a{\\left(t \\right)} + \\frac{\\frac{d^{2}}{d t^{2}} a{\\left(t \\right)}}{Wo^{2}} = G u{\\left(t \\right)}$"
      ],
      "text/plain": [
       "Eq(-anom + a(t) + Derivative(a(t), (t, 2))/Wo**2, G*u(t))"
      ]
     },
     "execution_count": 44,
     "metadata": {},
     "output_type": "execute_result"
    }
   ],
   "source": [
    "# Define the differential equation\n",
    "diff_eq = Eq(Derivative(a(t), t, 2)/Wo**2 + a(t) - anom, G*u(t))\n",
    "\n",
    "\n",
    "# Print the LaTeX code\n",
    "diff_eq"
   ]
  },
  {
   "cell_type": "markdown",
   "id": "1dddfce7",
   "metadata": {},
   "source": [
    "Change of Variable $a = A + anom$"
   ]
  },
  {
   "cell_type": "code",
   "execution_count": 54,
   "id": "549d3cad",
   "metadata": {
    "scrolled": true
   },
   "outputs": [
    {
     "ename": "ValueError",
     "evalue": "subs accepts either 1 or 2 arguments",
     "output_type": "error",
     "traceback": [
      "\u001b[0;31m---------------------------------------------------------------------------\u001b[0m",
      "\u001b[0;31mValueError\u001b[0m                                Traceback (most recent call last)",
      "Cell \u001b[0;32mIn[54], line 3\u001b[0m\n\u001b[1;32m      1\u001b[0m A \u001b[38;5;241m=\u001b[39m Function(\u001b[38;5;124m'\u001b[39m\u001b[38;5;124mA\u001b[39m\u001b[38;5;124m'\u001b[39m)\n\u001b[1;32m      2\u001b[0m \u001b[38;5;66;03m# Define the initial condition A(0) = 0\u001b[39;00m\n\u001b[0;32m----> 3\u001b[0m initial_condition \u001b[38;5;241m=\u001b[39m Eq(\u001b[43mA\u001b[49m\u001b[38;5;241;43m.\u001b[39;49m\u001b[43msubs\u001b[49m\u001b[43m(\u001b[49m\u001b[43m{\u001b[49m\u001b[43mt\u001b[49m\u001b[43m,\u001b[49m\u001b[43m \u001b[49m\u001b[38;5;241;43m0\u001b[39;49m\u001b[43m}\u001b[49m\u001b[43m)\u001b[49m, \u001b[38;5;241m0\u001b[39m)\n\u001b[1;32m      5\u001b[0m \u001b[38;5;66;03m# Define the initial derivative condition A'(0) = 0\u001b[39;00m\n\u001b[1;32m      6\u001b[0m derivative_condition \u001b[38;5;241m=\u001b[39m Eq(Derivative(A, t)\u001b[38;5;241m.\u001b[39msubs({t, \u001b[38;5;241m0\u001b[39m}), \u001b[38;5;241m0\u001b[39m)\n",
      "File \u001b[0;32m~/opt/anaconda3/lib/python3.8/site-packages/sympy/core/basic.py:936\u001b[0m, in \u001b[0;36mBasic.subs\u001b[0;34m(self, *args, **kwargs)\u001b[0m\n\u001b[1;32m    934\u001b[0m     sequence \u001b[38;5;241m=\u001b[39m [args]\n\u001b[1;32m    935\u001b[0m \u001b[38;5;28;01melse\u001b[39;00m:\n\u001b[0;32m--> 936\u001b[0m     \u001b[38;5;28;01mraise\u001b[39;00m \u001b[38;5;167;01mValueError\u001b[39;00m(\u001b[38;5;124m\"\u001b[39m\u001b[38;5;124msubs accepts either 1 or 2 arguments\u001b[39m\u001b[38;5;124m\"\u001b[39m)\n\u001b[1;32m    938\u001b[0m sequence \u001b[38;5;241m=\u001b[39m \u001b[38;5;28mlist\u001b[39m(sequence)\n\u001b[1;32m    939\u001b[0m \u001b[38;5;28;01mfor\u001b[39;00m i, s \u001b[38;5;129;01min\u001b[39;00m \u001b[38;5;28menumerate\u001b[39m(sequence):\n",
      "\u001b[0;31mValueError\u001b[0m: subs accepts either 1 or 2 arguments"
     ]
    }
   ],
   "source": [
    "A = Function('A')\n",
    "\n",
    "diff_eq = simplify(diff_eq.subs({a(t): A(t) + anom}))\n",
    "diff_eq"
   ]
  },
  {
   "cell_type": "code",
   "execution_count": 64,
   "id": "d1ec9f7a",
   "metadata": {},
   "outputs": [
    {
     "data": {
      "text/latex": [
       "$\\displaystyle \\left. \\frac{d}{d t} A{\\left(t \\right)} \\right|_{\\substack{ t=0 }} = 0$"
      ],
      "text/plain": [
       "Eq(Subs(Derivative(A(t), t), t, 0), 0)"
      ]
     },
     "execution_count": 64,
     "metadata": {},
     "output_type": "execute_result"
    }
   ],
   "source": [
    "Eq(Derivative(A(t), t).subs({t: 0}),0)"
   ]
  },
  {
   "cell_type": "code",
   "execution_count": 65,
   "id": "9f7e11f7",
   "metadata": {},
   "outputs": [
    {
     "data": {
      "text/latex": [
       "$\\displaystyle A{\\left(0 \\right)} = 0$"
      ],
      "text/plain": [
       "Eq(A(0), 0)"
      ]
     },
     "execution_count": 65,
     "metadata": {},
     "output_type": "execute_result"
    }
   ],
   "source": [
    "Eq(A(t).subs({t: 0}),0)"
   ]
  },
  {
   "cell_type": "code",
   "execution_count": 70,
   "id": "5b46775c",
   "metadata": {},
   "outputs": [
    {
     "data": {
      "text/latex": [
       "$\\displaystyle G \\mathcal{L}_{t}\\left[u{\\left(t \\right)}\\right]\\left(s\\right) = \\frac{Wo^{2} \\mathcal{L}_{t}\\left[A{\\left(t \\right)}\\right]\\left(s\\right) + s^{2} \\mathcal{L}_{t}\\left[A{\\left(t \\right)}\\right]\\left(s\\right)}{Wo^{2}}$"
      ],
      "text/plain": [
       "Eq(G*LaplaceTransform(u(t), t, s), (Wo**2*LaplaceTransform(A(t), t, s) + s**2*LaplaceTransform(A(t), t, s))/Wo**2)"
      ]
     },
     "execution_count": 70,
     "metadata": {},
     "output_type": "execute_result"
    }
   ],
   "source": [
    "diff_eq_laplace = Eq(laplace_transform(diff_eq.lhs, t, s), laplace_transform(diff_eq.rhs, t, s)).subs({A(0):0,Derivative(A(t), t).subs({t: 0}):0 })\n",
    "diff_eq_laplace"
   ]
  },
  {
   "cell_type": "code",
   "execution_count": 84,
   "id": "3062c89c",
   "metadata": {
    "scrolled": true
   },
   "outputs": [
    {
     "data": {
      "text/latex": [
       "$\\displaystyle \\frac{G Wo^{2}}{Wo^{2} + s^{2}}$"
      ],
      "text/plain": [
       "G*Wo**2/(Wo**2 + s**2)"
      ]
     },
     "execution_count": 84,
     "metadata": {},
     "output_type": "execute_result"
    }
   ],
   "source": [
    "h = Function('h')\n",
    "\n",
    "Lh = solve(diff_eq_laplace.subs({laplace_transform(A(t),t, s) : laplace_transform(h(t),t, s) * laplace_transform(u(t),t, s) }), laplace_transform(h(t),t, s))\n",
    "Lh = Lh[0]\n",
    "Lh"
   ]
  },
  {
   "cell_type": "code",
   "execution_count": null,
   "id": "4155517c",
   "metadata": {},
   "outputs": [],
   "source": []
  },
  {
   "cell_type": "code",
   "execution_count": 77,
   "id": "2d55e2c2",
   "metadata": {},
   "outputs": [
    {
     "name": "stdout",
     "output_type": "stream",
     "text": [
      "[]\n"
     ]
    }
   ],
   "source": [
    "from sympy import symbols, Eq, solve\n",
    "\n",
    "# Define variables\n",
    "x, y = symbols('x y')\n",
    "\n",
    "# Define an equation\n",
    "equation = Eq(2*x - 3*y, 6)\n",
    "\n",
    "# Isolate x/y\n",
    "x_over_y = solve(equation, x/y)\n",
    "\n",
    "# Print the value of x/y\n",
    "print(x_over_y)"
   ]
  },
  {
   "cell_type": "markdown",
   "id": "5b98fa3b",
   "metadata": {},
   "source": [
    "### b) Calculate the transfer function Z˜ h(z) discretized with sampling period Ts = 0.1 s by step invariance method."
   ]
  },
  {
   "cell_type": "markdown",
   "id": "46a04c25",
   "metadata": {},
   "source": [
    "### c) We try to write the state space representation of the system. What is the dimension of state vector x. Write state-space representation when the state vector contains ˜α, ω and multiple derivatives of ω ((A,B,C,D) matrices)."
   ]
  },
  {
   "cell_type": "markdown",
   "id": "c5637178",
   "metadata": {},
   "source": [
    "### d) Write the discretized state space representation using step invariance method (( ˜ A, ˜B ,C,D) matrices)."
   ]
  },
  {
   "cell_type": "code",
   "execution_count": 17,
   "id": "6f1023d3",
   "metadata": {},
   "outputs": [
    {
     "data": {
      "text/plain": [
       "(-anom/s + LaplaceTransform(a(t), t, s) + s**2*LaplaceTransform(a(t), t, s)/Wo**2 - s*a(0)/Wo**2 - Subs(Derivative(a(t), t), t, 0)/Wo**2,\n",
       " 0,\n",
       " True)"
      ]
     },
     "execution_count": 17,
     "metadata": {},
     "output_type": "execute_result"
    }
   ],
   "source": [
    "laplace_transform(Derivative(a(t), t, 2)/Wo**2 + a(t) - anom, t, s)"
   ]
  },
  {
   "cell_type": "code",
   "execution_count": null,
   "id": "7720fb7f",
   "metadata": {},
   "outputs": [],
   "source": []
  }
 ],
 "metadata": {
  "kernelspec": {
   "display_name": "Python 3 (ipykernel)",
   "language": "python",
   "name": "python3"
  },
  "language_info": {
   "codemirror_mode": {
    "name": "ipython",
    "version": 3
   },
   "file_extension": ".py",
   "mimetype": "text/x-python",
   "name": "python",
   "nbconvert_exporter": "python",
   "pygments_lexer": "ipython3",
   "version": "3.8.16"
  }
 },
 "nbformat": 4,
 "nbformat_minor": 5
}
